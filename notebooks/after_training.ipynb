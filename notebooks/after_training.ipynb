{
 "cells": [
  {
   "cell_type": "code",
   "execution_count": 19,
   "metadata": {},
   "outputs": [],
   "source": [
    "#Import statements\n",
    "import sys\n",
    "sys.path.insert(0,'..')\n",
    "import torch, torch.nn as nn\n",
    "import torch.nn.utils.rnn as rnn_utils\n",
    "import numpy as np\n",
    "import matplotlib.pyplot as plt\n",
    "import os\n",
    "from matplotlib import pyplot\n",
    "import numpy\n",
    "import utils.workspace as ws\n",
    "from utils.workspace import normalize\n",
    "from unconditional_generation.generate_unconditionnally import LSTM as lstm"
   ]
  },
  {
   "cell_type": "code",
   "execution_count": 32,
   "metadata": {},
   "outputs": [],
   "source": [
    "from conditional_generation.generate_conditionnally import LSTM as lstm"
   ]
  },
  {
   "cell_type": "code",
   "execution_count": 20,
   "metadata": {},
   "outputs": [],
   "source": [
    "from utils import plot_stroke"
   ]
  },
  {
   "cell_type": "code",
   "execution_count": 33,
   "metadata": {},
   "outputs": [],
   "source": [
    "experiment_directory = \"../conditional_generation/\"\n",
    "specs = ws.load_experiment_specifications(experiment_directory)"
   ]
  },
  {
   "cell_type": "code",
   "execution_count": 3,
   "metadata": {},
   "outputs": [],
   "source": [
    "# net_specs = specs[\"NetworkSpecs\"]\n",
    "# input_dim = net_specs[\"InputDim\"]\n",
    "# hidden_dim = net_specs[\"HiddenDim\"]\n",
    "# n_layers = net_specs[\"NumLayersLSTM\"]\n",
    "# output_dim = net_specs[\"OutputDim\"]\n",
    "# dropout = net_specs[\"Dropout\"]\n",
    "# model = lstm(input_dim=input_dim, hidden_dim=hidden_dim, n_layers=n_layers, output_dim=output_dim, dropout=dropout, )"
   ]
  },
  {
   "cell_type": "code",
   "execution_count": 35,
   "metadata": {},
   "outputs": [
    {
     "ename": "TypeError",
     "evalue": "__init__() missing 1 required positional argument: 'window_parameter_dim'",
     "output_type": "error",
     "traceback": [
      "\u001b[0;31m---------------------------------------------------------------------------\u001b[0m",
      "\u001b[0;31mTypeError\u001b[0m                                 Traceback (most recent call last)",
      "\u001b[0;32m<ipython-input-35-c2afacde93a4>\u001b[0m in \u001b[0;36m<module>\u001b[0;34m\u001b[0m\n\u001b[1;32m      5\u001b[0m \u001b[0moutput_dim\u001b[0m \u001b[0;34m=\u001b[0m \u001b[0mnet_specs\u001b[0m\u001b[0;34m[\u001b[0m\u001b[0;34m\"OutputDim\"\u001b[0m\u001b[0;34m]\u001b[0m\u001b[0;34m\u001b[0m\u001b[0;34m\u001b[0m\u001b[0m\n\u001b[1;32m      6\u001b[0m \u001b[0mdropout\u001b[0m \u001b[0;34m=\u001b[0m \u001b[0mnet_specs\u001b[0m\u001b[0;34m[\u001b[0m\u001b[0;34m\"Dropout\"\u001b[0m\u001b[0;34m]\u001b[0m\u001b[0;34m\u001b[0m\u001b[0;34m\u001b[0m\u001b[0m\n\u001b[0;32m----> 7\u001b[0;31m \u001b[0mmodel\u001b[0m \u001b[0;34m=\u001b[0m \u001b[0mlstm\u001b[0m\u001b[0;34m(\u001b[0m\u001b[0minput_dim\u001b[0m\u001b[0;34m=\u001b[0m\u001b[0minput_dim\u001b[0m\u001b[0;34m,\u001b[0m \u001b[0mhidden_dim\u001b[0m\u001b[0;34m=\u001b[0m\u001b[0mhidden_dim\u001b[0m\u001b[0;34m,\u001b[0m \u001b[0mn_layers\u001b[0m\u001b[0;34m=\u001b[0m\u001b[0mn_layers\u001b[0m\u001b[0;34m,\u001b[0m \u001b[0moutput_dim\u001b[0m\u001b[0;34m=\u001b[0m\u001b[0moutput_dim\u001b[0m\u001b[0;34m,\u001b[0m\u001b[0mchar_to_int\u001b[0m\u001b[0;34m=\u001b[0m\u001b[0mchar_to_int\u001b[0m\u001b[0;34m)\u001b[0m\u001b[0;34m\u001b[0m\u001b[0;34m\u001b[0m\u001b[0m\n\u001b[0m",
      "\u001b[0;31mTypeError\u001b[0m: __init__() missing 1 required positional argument: 'window_parameter_dim'"
     ]
    }
   ],
   "source": [
    "net_specs = specs[\"NetworkSpecs\"]\n",
    "input_dim = net_specs[\"InputDim\"]\n",
    "hidden_dim = net_specs[\"HiddenDim\"]\n",
    "n_layers = net_specs[\"NumLayersLSTM\"]\n",
    "output_dim = net_specs[\"OutputDim\"]\n",
    "dropout = net_specs[\"Dropout\"]\n",
    "model = lstm(input_dim=input_dim, hidden_dim=h dden_dim, n_layers=n_layers, output_dim=output_dim,char_to_int=char_to_int)"
   ]
  },
  {
   "cell_type": "code",
   "execution_count": null,
   "metadata": {},
   "outputs": [],
   "source": [
    "window_prameter_dim"
   ]
  },
  {
   "cell_type": "code",
   "execution_count": 38,
   "metadata": {},
   "outputs": [],
   "source": [
    "net_specs = specs[\"NetworkSpecs\"]\n",
    "input_dim = net_specs[\"InputDim\"]\n",
    "hidden_dim = net_specs[\"HiddenDim\"]\n",
    "n_layers = net_specs[\"NumLayersLSTM\"]\n",
    "output_dim = net_specs[\"OutputDim\"]\n",
    "window_parameter_dim = net_specs[\"WindowParameterDim\"]\n",
    "model = lstm(input_dim=input_dim, hidden_dim=hidden_dim, n_layers=n_layers, output_dim=output_dim, window_parameter_dim=window_parameter_dim, char_to_int=char_to_int)"
   ]
  },
  {
   "cell_type": "code",
   "execution_count": 40,
   "metadata": {},
   "outputs": [
    {
     "data": {
      "text/plain": [
       "10"
      ]
     },
     "execution_count": 40,
     "metadata": {},
     "output_type": "execute_result"
    }
   ],
   "source": [
    "model.load_model_parameters(os.path.join(\"..\", specs['ModelDir']), \"latest\")"
   ]
  },
  {
   "cell_type": "code",
   "execution_count": 5,
   "metadata": {},
   "outputs": [],
   "source": [
    "model = model.cuda()"
   ]
  },
  {
   "cell_type": "code",
   "execution_count": 41,
   "metadata": {},
   "outputs": [
    {
     "name": "stderr",
     "output_type": "stream",
     "text": [
      "/home/user/anaconda3/envs/deepsdf/lib/python3.7/site-packages/torch/serialization.py:292: UserWarning: Couldn't retrieve source code for container of type LSTMCell. It won't be checked for correctness upon loading.\n",
      "  \"type \" + obj.__name__ + \". It won't be checked \"\n"
     ]
    }
   ],
   "source": [
    "torch.save(model, \"../conditional_generation/cgm.pt\")"
   ]
  },
  {
   "cell_type": "code",
   "execution_count": 14,
   "metadata": {},
   "outputs": [],
   "source": [
    "# experiment_directory = \"../unconditional_generation/\"\n",
    "# specs = ws.load_experiment_specifications(experiment_directory)"
   ]
  },
  {
   "cell_type": "code",
   "execution_count": 15,
   "metadata": {},
   "outputs": [],
   "source": [
    "def generate_stroke(model):\n",
    "    model.eval()\n",
    "    stroke_length = np.random.randint(specs[\"eval\"][\"StrokeMinLength\"], specs[\"eval\"][\"StrokeMaxLength\"]+1)\n",
    "    batch_size = 1\n",
    "    stroke = torch.zeros(stroke_length, batch_size, 3)\n",
    "    hidden = model.init_hidden(batch_size)\n",
    "    point = torch.Tensor([[[1,0,0]]]).cuda()\n",
    "    # Randomize Length of stroke with random seed\n",
    "    for k in range(stroke_length):\n",
    "        model.eval()\n",
    "\n",
    "        point, hidden = model(point,hidden)\n",
    "        point[:, 0] = torch.sigmoid(point[:, 0])\n",
    "#         point[:, 0] = torch.Tensor([1 if x > 0.2 else 0 for x in point[:, 0]])\n",
    "        point[:, 0] = torch.Tensor(np.random.binomial(1,point[:, 0].data.cpu().numpy()))\n",
    "        stroke[k] = point\n",
    "        point = point.unsqueeze(0)\n",
    "    return np.array(stroke.squeeze().data)"
   ]
  },
  {
   "cell_type": "code",
   "execution_count": 16,
   "metadata": {},
   "outputs": [],
   "source": [
    "stroke = generate_stroke(model)"
   ]
  },
  {
   "cell_type": "code",
   "execution_count": 17,
   "metadata": {},
   "outputs": [
    {
     "data": {
      "text/plain": [
       "array([[ 0.        ,  0.5487576 ,  0.7010766 ],\n",
       "       [ 0.        ,  0.10528801,  0.17847246],\n",
       "       [ 0.        ,  0.15834813,  0.08058229],\n",
       "       ...,\n",
       "       [ 0.        , -0.07291905, -0.00182631],\n",
       "       [ 0.        , -0.07292171, -0.00181094],\n",
       "       [ 0.        , -0.07292479, -0.00179795]], dtype=float32)"
      ]
     },
     "execution_count": 17,
     "metadata": {},
     "output_type": "execute_result"
    }
   ],
   "source": [
    "stroke"
   ]
  },
  {
   "cell_type": "code",
   "execution_count": 18,
   "metadata": {},
   "outputs": [
    {
     "data": {
      "image/png": "[encoded data removed]",
      "text/plain": [
       "<Figure size 829.064x360 with 1 Axes>"
      ]
     },
     "metadata": {
      "needs_background": "light"
     },
     "output_type": "display_data"
    }
   ],
   "source": [
    "plot_stroke(stroke)"
   ]
  },
  {
   "cell_type": "code",
   "execution_count": 26,
   "metadata": {},
   "outputs": [],
   "source": [
    "from collections import Counter\n"
   ]
  },
  {
   "cell_type": "code",
   "execution_count": 27,
   "metadata": {},
   "outputs": [
    {
     "name": "stdout",
     "output_type": "stream",
     "text": [
      "Training on GPU\n"
     ]
    }
   ],
   "source": [
    "use_cuda = torch.cuda.is_available()\n",
    "if use_cuda:\n",
    "    print(\"Training on GPU\")\n",
    "else:\n",
    "    print(\"Training on CPU\")\n",
    "\n",
    "specs = ws.load_experiment_specifications(experiment_directory)\n",
    "\n",
    "\n",
    "# Loading the dataset\n",
    "strokes_file = \"../\"+specs[\"StrokesFile\"]\n",
    "sentences_file = \"../\"+specs[\"SentencesFile\"]\n",
    "strokes = np.load(strokes_file, allow_pickle=True)\n",
    "with open(sentences_file, 'r') as f:\n",
    "    sentences = f.read()\n",
    "\n",
    "char_set = set(sentences)\n",
    "char_set.remove('\\n')\n",
    "sentences = sentences.splitlines()\n",
    "\n",
    "## Build a dictionary that maps chars to integers\n",
    "counts = Counter(list(''.join(sentences)))\n",
    "char_to_int = {char: i for i, char in enumerate(counts, 1)}"
   ]
  },
  {
   "cell_type": "code",
   "execution_count": null,
   "metadata": {},
   "outputs": [],
   "source": []
  },
  {
   "cell_type": "code",
   "execution_count": null,
   "metadata": {},
   "outputs": [],
   "source": []
  }
 ],
 "metadata": {
  "kernelspec": {
   "display_name": "Python 3",
   "language": "python",
   "name": "python3"
  },
  "language_info": {
   "codemirror_mode": {
    "name": "ipython",
    "version": 3
   },
   "file_extension": ".py",
   "mimetype": "text/x-python",
   "name": "python",
   "nbconvert_exporter": "python",
   "pygments_lexer": "ipython3",
   "version": "3.7.4"
  }
 },
 "nbformat": 4,
 "nbformat_minor": 2
}
