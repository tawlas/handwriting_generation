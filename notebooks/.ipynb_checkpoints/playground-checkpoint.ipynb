{
 "cells": [
  {
   "cell_type": "code",
   "execution_count": 4,
   "metadata": {},
   "outputs": [],
   "source": [
    "import torch\n",
    "import torch.nn.utils.rnn as rnn_utils\n",
    "import torch.nn as nn\n",
    "import numpy as np"
   ]
  },
  {
   "cell_type": "code",
   "execution_count": 15,
   "metadata": {},
   "outputs": [],
   "source": [
    "a = torch.Tensor([[1], [2], [3]])\n",
    "b = torch.Tensor([[4], [5]])\n",
    "c = torch.Tensor([[6]])"
   ]
  },
  {
   "cell_type": "code",
   "execution_count": 205,
   "metadata": {},
   "outputs": [
    {
     "data": {
      "text/plain": [
       "False"
      ]
     },
     "execution_count": 205,
     "metadata": {},
     "output_type": "execute_result"
    }
   ],
   "source": [
    "torch.device"
   ]
  },
  {
   "cell_type": "code",
   "execution_count": 300,
   "metadata": {},
   "outputs": [],
   "source": [
    "dummy = torch.from_numpy(np.random.rand(1, 100, 1))"
   ]
  },
  {
   "cell_type": "code",
   "execution_count": 303,
   "metadata": {},
   "outputs": [
    {
     "data": {
      "text/plain": [
       "torch.Size([100, 1])"
      ]
     },
     "execution_count": 303,
     "metadata": {},
     "output_type": "execute_result"
    }
   ],
   "source": [
    "dummy.squeeze(0).shape"
   ]
  },
  {
   "cell_type": "code",
   "execution_count": 499,
   "metadata": {},
   "outputs": [],
   "source": [
    "# Importing Dataset\n",
    "strokes = np.load('../data/strokes-py3.npy', allow_pickle=True)\n",
    "# strokes = strokes[:100]\n",
    "\n",
    "# strokes = [torch.from_numpy(x) for x in strokes]"
   ]
  },
  {
   "cell_type": "code",
   "execution_count": 459,
   "metadata": {},
   "outputs": [],
   "source": [
    "with open('../data/sentences.txt', 'r') as f:\n",
    "    sentences = f.read()"
   ]
  },
  {
   "cell_type": "code",
   "execution_count": 462,
   "metadata": {},
   "outputs": [
    {
     "name": "stdout",
     "output_type": "stream",
     "text": [
      "in the abu\n"
     ]
    }
   ],
   "source": [
    "print(sentences[:10])"
   ]
  },
  {
   "cell_type": "code",
   "execution_count": 461,
   "metadata": {},
   "outputs": [
    {
     "data": {
      "text/plain": [
       "77"
      ]
     },
     "execution_count": 461,
     "metadata": {},
     "output_type": "execute_result"
    }
   ],
   "source": [
    "char_set = set(sentences)\n",
    "char_set.remove('\\n')\n",
    "len(char_set)"
   ]
  },
  {
   "cell_type": "code",
   "execution_count": 447,
   "metadata": {
    "collapsed": true
   },
   "outputs": [
    {
     "data": {
      "text/plain": [
       "{' ',\n",
       " '!',\n",
       " '\"',\n",
       " '#',\n",
       " \"'\",\n",
       " '(',\n",
       " ')',\n",
       " '+',\n",
       " ',',\n",
       " '-',\n",
       " '.',\n",
       " '/',\n",
       " '0',\n",
       " '1',\n",
       " '2',\n",
       " '3',\n",
       " '4',\n",
       " '5',\n",
       " '6',\n",
       " '7',\n",
       " '8',\n",
       " '9',\n",
       " ':',\n",
       " ';',\n",
       " '?',\n",
       " 'A',\n",
       " 'B',\n",
       " 'C',\n",
       " 'D',\n",
       " 'E',\n",
       " 'F',\n",
       " 'G',\n",
       " 'H',\n",
       " 'I',\n",
       " 'J',\n",
       " 'K',\n",
       " 'L',\n",
       " 'M',\n",
       " 'N',\n",
       " 'O',\n",
       " 'P',\n",
       " 'Q',\n",
       " 'R',\n",
       " 'S',\n",
       " 'T',\n",
       " 'U',\n",
       " 'V',\n",
       " 'W',\n",
       " 'X',\n",
       " 'Y',\n",
       " 'Z',\n",
       " 'a',\n",
       " 'b',\n",
       " 'c',\n",
       " 'd',\n",
       " 'e',\n",
       " 'f',\n",
       " 'g',\n",
       " 'h',\n",
       " 'i',\n",
       " 'j',\n",
       " 'k',\n",
       " 'l',\n",
       " 'm',\n",
       " 'n',\n",
       " 'o',\n",
       " 'p',\n",
       " 'q',\n",
       " 'r',\n",
       " 's',\n",
       " 't',\n",
       " 'u',\n",
       " 'v',\n",
       " 'w',\n",
       " 'x',\n",
       " 'y',\n",
       " 'z'}"
      ]
     },
     "execution_count": 447,
     "metadata": {},
     "output_type": "execute_result"
    }
   ],
   "source": [
    "char_set"
   ]
  },
  {
   "cell_type": "code",
   "execution_count": 463,
   "metadata": {},
   "outputs": [],
   "source": [
    "sentences = sentences.splitlines()"
   ]
  },
  {
   "cell_type": "code",
   "execution_count": 471,
   "metadata": {},
   "outputs": [],
   "source": [
    "# feel free to use this import \n",
    "from collections import Counter\n",
    "\n",
    "## Build a dictionary that maps words to integers\n",
    "counts = Counter(list(''.join(sentences)))\n",
    "chars = sorted(counts, key=counts.get, reverse=True)\n",
    "char_to_int = {char: ii for ii, char in enumerate(chars, 1)}\n",
    "\n",
    "## use the dict to tokenize each review in reviews_split\n",
    "## store the tokenized reviews in reviews_ints\n",
    "sentences_ints = []\n",
    "for sentence in sentences:\n",
    "    sentences_ints.append([char_to_int[char] for char in list(sentence)])"
   ]
  },
  {
   "cell_type": "code",
   "execution_count": 475,
   "metadata": {},
   "outputs": [],
   "source": [
    "lens = [len(x) for x in sentences]"
   ]
  },
  {
   "cell_type": "code",
   "execution_count": null,
   "metadata": {},
   "outputs": [],
   "source": []
  },
  {
   "cell_type": "code",
   "execution_count": null,
   "metadata": {},
   "outputs": [],
   "source": []
  },
  {
   "cell_type": "code",
   "execution_count": null,
   "metadata": {},
   "outputs": [],
   "source": []
  },
  {
   "cell_type": "code",
   "execution_count": null,
   "metadata": {},
   "outputs": [],
   "source": []
  },
  {
   "cell_type": "code",
   "execution_count": null,
   "metadata": {},
   "outputs": [],
   "source": []
  },
  {
   "cell_type": "code",
   "execution_count": null,
   "metadata": {},
   "outputs": [],
   "source": []
  },
  {
   "cell_type": "code",
   "execution_count": null,
   "metadata": {},
   "outputs": [],
   "source": []
  },
  {
   "cell_type": "code",
   "execution_count": null,
   "metadata": {},
   "outputs": [],
   "source": []
  },
  {
   "cell_type": "code",
   "execution_count": null,
   "metadata": {},
   "outputs": [],
   "source": []
  },
  {
   "cell_type": "code",
   "execution_count": 500,
   "metadata": {},
   "outputs": [
    {
     "data": {
      "text/plain": [
       "<BarContainer object of 6000 artists>"
      ]
     },
     "execution_count": 500,
     "metadata": {},
     "output_type": "execute_result"
    },
    {
     "data": {
      "image/png": "[encoded data removed]",
      "text/plain": [
       "<Figure size 432x288 with 1 Axes>"
      ]
     },
     "metadata": {
      "needs_background": "light"
     },
     "output_type": "display_data"
    }
   ],
   "source": [
    "l = [len(k) for k in strokes]\n",
    "# plt.plot(list(range(len(l))),l)\n",
    "plt.bar(list(range(len(l))),l)"
   ]
  },
  {
   "cell_type": "code",
   "execution_count": null,
   "metadata": {},
   "outputs": [],
   "source": []
  },
  {
   "cell_type": "code",
   "execution_count": null,
   "metadata": {},
   "outputs": [],
   "source": []
  },
  {
   "cell_type": "code",
   "execution_count": null,
   "metadata": {},
   "outputs": [],
   "source": []
  },
  {
   "cell_type": "code",
   "execution_count": null,
   "metadata": {},
   "outputs": [],
   "source": []
  },
  {
   "cell_type": "code",
   "execution_count": null,
   "metadata": {},
   "outputs": [],
   "source": []
  },
  {
   "cell_type": "code",
   "execution_count": null,
   "metadata": {},
   "outputs": [],
   "source": []
  },
  {
   "cell_type": "code",
   "execution_count": null,
   "metadata": {},
   "outputs": [],
   "source": []
  },
  {
   "cell_type": "code",
   "execution_count": null,
   "metadata": {},
   "outputs": [],
   "source": []
  },
  {
   "cell_type": "code",
   "execution_count": null,
   "metadata": {},
   "outputs": [],
   "source": []
  },
  {
   "cell_type": "code",
   "execution_count": null,
   "metadata": {},
   "outputs": [],
   "source": []
  },
  {
   "cell_type": "code",
   "execution_count": null,
   "metadata": {},
   "outputs": [],
   "source": []
  },
  {
   "cell_type": "code",
   "execution_count": null,
   "metadata": {},
   "outputs": [],
   "source": []
  },
  {
   "cell_type": "code",
   "execution_count": null,
   "metadata": {},
   "outputs": [],
   "source": []
  },
  {
   "cell_type": "code",
   "execution_count": null,
   "metadata": {},
   "outputs": [],
   "source": []
  },
  {
   "cell_type": "code",
   "execution_count": null,
   "metadata": {},
   "outputs": [],
   "source": []
  },
  {
   "cell_type": "code",
   "execution_count": 250,
   "metadata": {},
   "outputs": [],
   "source": [
    "a, b,c = torch.split(dummy, 1, dim=2)"
   ]
  },
  {
   "cell_type": "code",
   "execution_count": 281,
   "metadata": {},
   "outputs": [],
   "source": [
    "a = torch.ones(2,3) * 3\n",
    "a[0] *= 2\n",
    "a[1] *= 3\n"
   ]
  },
  {
   "cell_type": "code",
   "execution_count": 282,
   "metadata": {},
   "outputs": [],
   "source": [
    "b = torch.zeros(3)"
   ]
  },
  {
   "cell_type": "code",
   "execution_count": 283,
   "metadata": {},
   "outputs": [
    {
     "data": {
      "text/plain": [
       "tensor([[5., 5., 5.],\n",
       "        [8., 8., 8.]])"
      ]
     },
     "execution_count": 283,
     "metadata": {},
     "output_type": "execute_result"
    }
   ],
   "source": [
    "b"
   ]
  },
  {
   "cell_type": "code",
   "execution_count": 288,
   "metadata": {},
   "outputs": [],
   "source": [
    "a = torch.from_numpy(np.random.rand(10))"
   ]
  },
  {
   "cell_type": "code",
   "execution_count": 285,
   "metadata": {},
   "outputs": [],
   "source": [
    "b = torch.diag(torch.tensor(np.ones(10)))"
   ]
  },
  {
   "cell_type": "code",
   "execution_count": 289,
   "metadata": {},
   "outputs": [
    {
     "data": {
      "text/plain": [
       "tensor([[0.8967, 0.0000, 0.0000, 0.0000, 0.0000, 0.0000, 0.0000, 0.0000, 0.0000,\n",
       "         0.0000],\n",
       "        [0.0000, 0.2874, 0.0000, 0.0000, 0.0000, 0.0000, 0.0000, 0.0000, 0.0000,\n",
       "         0.0000],\n",
       "        [0.0000, 0.0000, 0.1022, 0.0000, 0.0000, 0.0000, 0.0000, 0.0000, 0.0000,\n",
       "         0.0000],\n",
       "        [0.0000, 0.0000, 0.0000, 0.6671, 0.0000, 0.0000, 0.0000, 0.0000, 0.0000,\n",
       "         0.0000],\n",
       "        [0.0000, 0.0000, 0.0000, 0.0000, 0.9985, 0.0000, 0.0000, 0.0000, 0.0000,\n",
       "         0.0000],\n",
       "        [0.0000, 0.0000, 0.0000, 0.0000, 0.0000, 0.9210, 0.0000, 0.0000, 0.0000,\n",
       "         0.0000],\n",
       "        [0.0000, 0.0000, 0.0000, 0.0000, 0.0000, 0.0000, 0.3003, 0.0000, 0.0000,\n",
       "         0.0000],\n",
       "        [0.0000, 0.0000, 0.0000, 0.0000, 0.0000, 0.0000, 0.0000, 0.3775, 0.0000,\n",
       "         0.0000],\n",
       "        [0.0000, 0.0000, 0.0000, 0.0000, 0.0000, 0.0000, 0.0000, 0.0000, 0.4200,\n",
       "         0.0000],\n",
       "        [0.0000, 0.0000, 0.0000, 0.0000, 0.0000, 0.0000, 0.0000, 0.0000, 0.0000,\n",
       "         0.5324]], dtype=torch.float64)"
      ]
     },
     "execution_count": 289,
     "metadata": {},
     "output_type": "execute_result"
    }
   ],
   "source": [
    "a*b"
   ]
  },
  {
   "cell_type": "code",
   "execution_count": null,
   "metadata": {},
   "outputs": [],
   "source": []
  },
  {
   "cell_type": "code",
   "execution_count": null,
   "metadata": {},
   "outputs": [],
   "source": []
  },
  {
   "cell_type": "code",
   "execution_count": 274,
   "metadata": {},
   "outputs": [
    {
     "data": {
      "text/plain": [
       "torch.Size([10, 100])"
      ]
     },
     "execution_count": 274,
     "metadata": {},
     "output_type": "execute_result"
    }
   ],
   "source": [
    "torch.sum(dummy,dim=-1).shape"
   ]
  },
  {
   "cell_type": "code",
   "execution_count": null,
   "metadata": {},
   "outputs": [],
   "source": []
  },
  {
   "cell_type": "code",
   "execution_count": null,
   "metadata": {},
   "outputs": [],
   "source": []
  },
  {
   "cell_type": "code",
   "execution_count": 213,
   "metadata": {},
   "outputs": [],
   "source": [
    "# # Importing Dataset\n",
    "# strokes = np.load('../data/strokes-py3.npy', allow_pickle=True)\n",
    "# strokes = strokes[:100]\n",
    "\n",
    "# strokes = [torch.from_numpy(x) for x in strokes]"
   ]
  },
  {
   "cell_type": "code",
   "execution_count": 290,
   "metadata": {},
   "outputs": [],
   "source": [
    "strokes = torch.from_numpy(np.random.rand(10, 100, 3))"
   ]
  },
  {
   "cell_type": "code",
   "execution_count": 295,
   "metadata": {
    "collapsed": true
   },
   "outputs": [
    {
     "data": {
      "text/plain": [
       "tensor([[[0.1764, 0.4235, 0.8470],\n",
       "         [0.2680, 0.0463, 0.5199],\n",
       "         [0.6640, 0.7929, 0.8125],\n",
       "         ...,\n",
       "         [0.0060, 0.6963, 0.0247],\n",
       "         [0.1669, 0.2567, 0.3297],\n",
       "         [0.0079, 0.8843, 0.5279]],\n",
       "\n",
       "        [[0.8874, 0.3771, 0.3526],\n",
       "         [0.8480, 0.2789, 0.4008],\n",
       "         [0.9328, 0.5232, 0.4745],\n",
       "         ...,\n",
       "         [0.5803, 0.6913, 0.1456],\n",
       "         [0.2460, 0.8337, 0.1342],\n",
       "         [0.3269, 0.3272, 0.5276]],\n",
       "\n",
       "        [[0.0616, 0.7184, 0.1034],\n",
       "         [0.2033, 0.3794, 0.1208],\n",
       "         [0.1578, 0.6205, 0.0604],\n",
       "         ...,\n",
       "         [0.0045, 0.9408, 0.9137],\n",
       "         [0.2893, 0.6477, 0.9268],\n",
       "         [0.2335, 0.9709, 0.1164]],\n",
       "\n",
       "        ...,\n",
       "\n",
       "        [[0.7223, 0.9081, 0.6017],\n",
       "         [0.8125, 0.3095, 0.0170],\n",
       "         [0.3799, 0.7678, 0.2200],\n",
       "         ...,\n",
       "         [0.2457, 0.5715, 0.2285],\n",
       "         [0.9077, 0.2095, 0.1951],\n",
       "         [0.3780, 0.0400, 0.0167]],\n",
       "\n",
       "        [[0.5924, 0.5882, 0.4502],\n",
       "         [0.3699, 0.3061, 0.0220],\n",
       "         [0.3900, 0.2320, 0.7058],\n",
       "         ...,\n",
       "         [0.4647, 0.5534, 0.3384],\n",
       "         [0.7519, 0.9627, 0.5943],\n",
       "         [0.6096, 0.7470, 0.4602]],\n",
       "\n",
       "        [[0.8785, 0.8746, 0.2508],\n",
       "         [0.9331, 0.8436, 0.6857],\n",
       "         [0.7680, 0.8849, 0.7637],\n",
       "         ...,\n",
       "         [0.2312, 0.4090, 0.4744],\n",
       "         [0.2172, 0.7291, 0.3170],\n",
       "         [0.1929, 0.5003, 0.0498]]], dtype=torch.float64)"
      ]
     },
     "execution_count": 295,
     "metadata": {},
     "output_type": "execute_result"
    }
   ],
   "source": [
    "strokes"
   ]
  },
  {
   "cell_type": "code",
   "execution_count": 297,
   "metadata": {},
   "outputs": [
    {
     "data": {
      "text/plain": [
       "torch.Size([10, 3])"
      ]
     },
     "execution_count": 297,
     "metadata": {},
     "output_type": "execute_result"
    }
   ],
   "source": [
    "strokes[:,0,:].shape"
   ]
  },
  {
   "cell_type": "code",
   "execution_count": null,
   "metadata": {},
   "outputs": [],
   "source": []
  },
  {
   "cell_type": "markdown",
   "metadata": {},
   "source": [
    "Compute Wt"
   ]
  },
  {
   "cell_type": "code",
   "execution_count": 269,
   "metadata": {},
   "outputs": [],
   "source": [
    "a = torch.ones(2,3)\n",
    "for k in range(len(a)):\n",
    "    a[k] *= k+1"
   ]
  },
  {
   "cell_type": "code",
   "execution_count": 270,
   "metadata": {},
   "outputs": [
    {
     "data": {
      "text/plain": [
       "tensor([[1., 1., 1.],\n",
       "        [2., 2., 2.]])"
      ]
     },
     "execution_count": 270,
     "metadata": {},
     "output_type": "execute_result"
    }
   ],
   "source": [
    "a"
   ]
  },
  {
   "cell_type": "code",
   "execution_count": 208,
   "metadata": {},
   "outputs": [],
   "source": [
    "csl = 26\n",
    "K = 10"
   ]
  },
  {
   "cell_type": "code",
   "execution_count": 253,
   "metadata": {},
   "outputs": [
    {
     "data": {
      "text/plain": [
       "tensor([8., 8., 8., 8., 8., 8., 8., 8., 8., 8., 8., 8., 8., 8., 8., 8., 8., 8.,\n",
       "        8., 8., 8., 8., 8., 8., 8., 8.])"
      ]
     },
     "execution_count": 253,
     "metadata": {},
     "output_type": "execute_result"
    }
   ],
   "source": [
    "(torch.ones(csl) * 2)**3"
   ]
  },
  {
   "cell_type": "code",
   "execution_count": 211,
   "metadata": {},
   "outputs": [
    {
     "data": {
      "text/plain": [
       "torch.Size([26, 26])"
      ]
     },
     "execution_count": 211,
     "metadata": {},
     "output_type": "execute_result"
    }
   ],
   "source": [
    "torch.diag(torch.ones(csl)).shape"
   ]
  },
  {
   "cell_type": "code",
   "execution_count": 228,
   "metadata": {},
   "outputs": [
    {
     "data": {
      "text/plain": [
       "tensor([1.0000, 2.7183,    inf])"
      ]
     },
     "execution_count": 228,
     "metadata": {},
     "output_type": "execute_result"
    }
   ],
   "source": [
    "torch.exp(torch.Tensor([0, 1, torch.log(torch.Tensor([5]))]))"
   ]
  },
  {
   "cell_type": "code",
   "execution_count": 214,
   "metadata": {},
   "outputs": [],
   "source": [
    "# time step t\n",
    "# fc in: hidden_dim, out:3*K\n",
    "compute_wt(h, prev_p, c):\n",
    "    p = torch.exp(fc(h))\n",
    "    p[2*K+1:] = p[2*K+1:] - prev_p[2*K+1:]\n",
    "    alpha, beta, kappa = torch.split(p, K, -1)\n",
    "    u = torch.ones(csl, len(alpha))\n",
    "    for k in range(csl):\n",
    "        u[k] *= k+1\n",
    "    phi = torch.sum(alpha*torch.exp(-beta*(kappa-u[k])**2), dim=-1)\n",
    "    phi = torch.zeros(csl):\n",
    "    for k in range(csl):\n",
    "         phi[k] = torch.sum(alpha*torch.exp(-beta*(kappa-u[k])**2))\n",
    "            \n",
    "    wt = torch.sum(phi*c, dim=0)\n",
    "    return wt, p"
   ]
  },
  {
   "cell_type": "code",
   "execution_count": null,
   "metadata": {},
   "outputs": [],
   "source": [
    "#all_wt: batch_size*seq_len*csl\n",
    "#xt: batch_size*seq_len*csl onehotencoding\n",
    "#"
   ]
  },
  {
   "cell_type": "code",
   "execution_count": null,
   "metadata": {},
   "outputs": [],
   "source": [
    "# concat input char with wt\n",
    "# x :batch_size*csl, prev_wt: batch_size*csl\n",
    "def cat(x, prev_wt):\n",
    "    final_input = torch.cat([x,prev_wt], dim=1)\n",
    "    return final_input"
   ]
  },
  {
   "cell_type": "code",
   "execution_count": null,
   "metadata": {},
   "outputs": [],
   "source": [
    "#Compute hidden state\n",
    "for k in range(len(batch.size[1])):\n",
    "    batch_split = batch[:, k, :]\n",
    "    "
   ]
  },
  {
   "cell_type": "code",
   "execution_count": 322,
   "metadata": {},
   "outputs": [],
   "source": [
    "h = torch.from_numpy(np.random.rand(10, 4))"
   ]
  },
  {
   "cell_type": "code",
   "execution_count": 324,
   "metadata": {},
   "outputs": [],
   "source": [
    "s = h.clone()"
   ]
  },
  {
   "cell_type": "code",
   "execution_count": null,
   "metadata": {},
   "outputs": [],
   "source": [
    "np.random.seed(1)\n",
    "h = s\n",
    "c = torch.diag(torch.arange(1,7))\n",
    "\n",
    "K = 3\n",
    "fc1 = nn.Linear(4, 3*K)"
   ]
  },
  {
   "cell_type": "code",
   "execution_count": 408,
   "metadata": {},
   "outputs": [],
   "source": [
    "c = torch.diag(torch.ones(6))"
   ]
  },
  {
   "cell_type": "code",
   "execution_count": 341,
   "metadata": {},
   "outputs": [],
   "source": [
    "csl = 6"
   ]
  },
  {
   "cell_type": "code",
   "execution_count": 360,
   "metadata": {},
   "outputs": [
    {
     "data": {
      "text/plain": [
       "tensor([0., 0., 0., 0., 0.])"
      ]
     },
     "execution_count": 360,
     "metadata": {},
     "output_type": "execute_result"
    }
   ],
   "source": [
    "a = torch.ones(5, 3)\n",
    "b = torch.ones(3)\n",
    "torch.sum(a-b, dim=-1)"
   ]
  },
  {
   "cell_type": "code",
   "execution_count": 411,
   "metadata": {},
   "outputs": [
    {
     "data": {
      "text/plain": [
       "(tensor([[2.0320e+00, 1.2706e+00, 3.6901e-01, 1.9942e-02, 1.4793e-04, 1.4976e-07],\n",
       "         [2.7713e+00, 1.0550e+00, 4.7053e-02, 2.8655e-04, 3.0354e-07, 5.6013e-11],\n",
       "         [2.3952e+00, 1.3530e+00, 1.5962e-01, 3.8273e-03, 1.3403e-05, 6.4696e-09],\n",
       "         [2.7762e+00, 1.2994e+00, 6.0608e-02, 2.6923e-04, 1.6194e-07, 1.8201e-11],\n",
       "         [2.2666e+00, 1.1064e+00, 1.2385e-01, 2.6668e-03, 8.5286e-06, 3.8965e-09],\n",
       "         [2.6608e+00, 1.1494e+00, 5.8840e-02, 3.3765e-04, 2.1729e-07, 1.6373e-11],\n",
       "         [2.6383e+00, 1.1840e+00, 6.4414e-02, 3.9417e-04, 2.6231e-07, 1.8837e-11],\n",
       "         [2.2590e+00, 1.3224e+00, 1.1159e-01, 7.8369e-04, 4.0331e-07, 1.5094e-11],\n",
       "         [2.7936e+00, 1.5236e+00, 6.9845e-02, 2.4345e-04, 6.6639e-08, 1.5706e-12],\n",
       "         [2.0996e+00, 1.0944e+00, 1.7825e-01, 5.2795e-03, 2.2494e-05, 1.3573e-08]],\n",
       "        grad_fn=<MmBackward>),\n",
       " tensor([[0.9222, 0.8279, 0.9219, 0.9958, 1.5748, 2.2944, 2.0379, 1.0360, 1.1234],\n",
       "         [1.5441, 0.5521, 0.7909, 1.2145, 1.0588, 0.9637, 1.1428, 0.6321, 1.0743],\n",
       "         [0.9044, 0.7489, 1.0746, 0.9923, 1.4457, 1.3903, 1.6525, 1.0189, 1.1181],\n",
       "         [1.3891, 0.5680, 1.1074, 1.3416, 0.9881, 0.9834, 1.3662, 0.6682, 0.9705],\n",
       "         [0.9126, 0.6440, 0.9517, 0.9740, 1.3014, 1.3647, 1.5518, 0.9300, 0.9489],\n",
       "         [1.3901, 0.6027, 0.8179, 1.1473, 1.1662, 1.0568, 1.2255, 0.7071, 1.1264],\n",
       "         [1.4256, 0.6388, 0.7467, 1.1091, 1.2589, 1.1254, 1.2111, 0.7235, 1.2360],\n",
       "         [1.2834, 0.5619, 1.0271, 1.3183, 0.9834, 1.4093, 1.6282, 0.6783, 0.8355],\n",
       "         [1.6896, 0.6696, 0.8771, 1.3491, 1.1612, 1.2275, 1.3643, 0.6546, 1.2776],\n",
       "         [0.8945, 0.6516, 0.9191, 0.9776, 1.3082, 1.6586, 1.7086, 0.9339, 0.9008]],\n",
       "        grad_fn=<CopySlices>))"
      ]
     },
     "execution_count": 411,
     "metadata": {},
     "output_type": "execute_result"
    }
   ],
   "source": [
    "#use broadcasting for cleaner code\n",
    "def compute_soft_window(h, c, prev_p=None):\n",
    "    if prev_p == None:\n",
    "        prev_p = torch.zeros(h.size(0), 3*K)\n",
    "    p = torch.exp(self.fc1(h.float()))\n",
    "    p[:,2*K:] = p[:, 2*K:] - prev_p[:, 2*K:]\n",
    "    alpha, beta, kappa = torch.split(p, K, -1)\n",
    "    u = torch.ones(self.csl, alpha.size(-1))\n",
    "    for k in range(self.csl):\n",
    "        u[k] *= k+1\n",
    "    phi = torch.zeros(h.size(0), self.csl)\n",
    "    for k in range(phi.size(-1)):\n",
    "        phi[:,k] = torch.sum(alpha*torch.exp(-beta*(kappa-u[k])**2), dim=-1)\n",
    "    \n",
    "    soft_window = phi.mm(c.float())\n",
    "    return  soft_window, p\n",
    "\n",
    "compute_soft_window(h, c, prev_p=None)"
   ]
  },
  {
   "cell_type": "code",
   "execution_count": 338,
   "metadata": {},
   "outputs": [
    {
     "data": {
      "text/plain": [
       "tensor([[0.9222, 0.8279, 0.9219, 0.9958, 1.5748, 2.2944, 2.0379, 1.0360, 1.1234],\n",
       "        [1.5441, 0.5521, 0.7909, 1.2145, 1.0588, 0.9637, 1.1428, 0.6321, 1.0743],\n",
       "        [0.9044, 0.7489, 1.0746, 0.9923, 1.4457, 1.3903, 1.6525, 1.0189, 1.1181],\n",
       "        [1.3891, 0.5680, 1.1074, 1.3416, 0.9881, 0.9834, 1.3662, 0.6682, 0.9705],\n",
       "        [0.9126, 0.6440, 0.9517, 0.9740, 1.3014, 1.3647, 1.5518, 0.9300, 0.9489],\n",
       "        [1.3901, 0.6027, 0.8179, 1.1473, 1.1662, 1.0568, 1.2255, 0.7071, 1.1264],\n",
       "        [1.4256, 0.6388, 0.7467, 1.1091, 1.2589, 1.1254, 1.2111, 0.7235, 1.2360],\n",
       "        [1.2834, 0.5619, 1.0271, 1.3183, 0.9834, 1.4093, 1.6282, 0.6783, 0.8355],\n",
       "        [1.6896, 0.6696, 0.8771, 1.3491, 1.1612, 1.2275, 1.3643, 0.6546, 1.2776],\n",
       "        [0.8945, 0.6516, 0.9191, 0.9776, 1.3082, 1.6586, 1.7086, 0.9339, 0.9008]],\n",
       "       grad_fn=<CopySlices>)"
      ]
     },
     "execution_count": 338,
     "metadata": {},
     "output_type": "execute_result"
    }
   ],
   "source": [
    "# K = 3\n",
    "# fc1 = nn.Linear(4, 3*K)\n",
    "def compute_soft_window(h, c, prev_p=None):\n",
    "    if prev_p == None:\n",
    "        prev_p = torch.zeros(h.size(0), 3*K)\n",
    "    p = torch.exp(fc1(h.float()))\n",
    "    p[:,2*K:] = p[:, 2*K:] - prev_p[:, 2*K:]\n",
    "#     alpha, beta, kappa = torch.split(p, K, -1)\n",
    "#     u = torch.ones(self.csl, len(alpha))\n",
    "#     for k in range(self.csl):\n",
    "#         u[k] *= k+1\n",
    "#     phi = torch.sum(alpha*torch.exp(-beta*(kappa-u[k])**2), dim=-1)\n",
    "#     phi = torch.zeros(self.csl):\n",
    "#     for k in range(self.csl):\n",
    "#          phi[k] = torch.sum(alpha*torch.exp(-beta*(kappa-u[k])**2))\n",
    "\n",
    "#     soft_window = torch.sum(phi*c, dim=-1)\n",
    "    return p\n",
    "\n",
    "compute_soft_window(h, c, prev_p=None)"
   ]
  },
  {
   "cell_type": "code",
   "execution_count": null,
   "metadata": {},
   "outputs": [],
   "source": []
  },
  {
   "cell_type": "code",
   "execution_count": null,
   "metadata": {},
   "outputs": [],
   "source": []
  },
  {
   "cell_type": "code",
   "execution_count": null,
   "metadata": {},
   "outputs": [],
   "source": []
  },
  {
   "cell_type": "code",
   "execution_count": null,
   "metadata": {},
   "outputs": [],
   "source": []
  },
  {
   "cell_type": "code",
   "execution_count": null,
   "metadata": {},
   "outputs": [],
   "source": []
  },
  {
   "cell_type": "code",
   "execution_count": null,
   "metadata": {},
   "outputs": [],
   "source": []
  },
  {
   "cell_type": "code",
   "execution_count": 393,
   "metadata": {},
   "outputs": [
    {
     "data": {
      "text/plain": [
       "tensor([[1., 1., 1.]])"
      ]
     },
     "execution_count": 393,
     "metadata": {},
     "output_type": "execute_result"
    }
   ],
   "source": [
    "a = torch.diag(torch.ones(3))\n",
    "b = torch.ones(3).unsqueeze(0)\n",
    "b.mm(a)"
   ]
  },
  {
   "cell_type": "code",
   "execution_count": null,
   "metadata": {},
   "outputs": [],
   "source": [
    "# Loading the dataset\n",
    "datadir = specs[\"DataDir\"]\n",
    "strokes = np.load(datadir, allow_pickle=True)\n",
    "with open('../data/sentences.txt', 'r') as f:\n",
    "    sentences = f.read()\n",
    "    \n",
    "char_set = set(sentences)\n",
    "char_set.remove('\\n')\n",
    "sentences = sentences.splitlines()\n",
    "\n",
    "## Build a dictionary that maps chars to integers\n",
    "counts = Counter(list(''.join(sentences)))\n",
    "char_to_int = {char: i for i, char in enumerate(char_set, 1)}\n",
    "\n",
    "## store the tokenized sentences in sentences_ints\n",
    "sentences_ints = []\n",
    "for sentence in sentences:\n",
    "    sentences_ints.append([char_to_int[char] for char in sentence])\n",
    "\n",
    "def one_hot_encode(sentence):\n",
    "    one_hot_sentence = []\n",
    "    for value in sentence:\n",
    "        one_hot = [0 for _ in range(len(char_set))]\n",
    "        one_hot[value-1] = 1\n",
    "        one_hot_sentence.append(one_hot)\n",
    "    return one_hot_sentence\n",
    "\n",
    "one_hot_sentences = [one_hot_encode(sentence) for sentence in sentences_ints]\n",
    "one_hot_sentences = torch.Tensor(one_hot_sentences)\n",
    "\n",
    "# 400 specs[\"NumTimestep\"]\n",
    "n_timestep = 400\n",
    "strokes = torch.Tensor(x[:n_timestep] for x in strokes)\n",
    "dataset = list(filter(lambda x: len(x[1]) >= n_timestep, zip(one_hot_sentences, strokes)))\n",
    "\n",
    "\n",
    "\n",
    "def split_dataset(dataset, train_split, val_split):\n",
    "    train_set = dataset[:int(train_split*len(dataset))]\n",
    "    val_set = dataset[int(train_split*len(dataset)):int((train_split+val_split)*len(dataset))]\n",
    "    if train_split + val_split == 1:\n",
    "        return train_set, val_set\n",
    "    else:\n",
    "        test_set = dataset[int((train_split+val_split)*len(dataset)):]\n",
    "        train_set, val_set, test_set\n",
    "        \n",
    "\n",
    "\n",
    "\n",
    "# Splitting the dataset\n",
    "train_split = specs[\"TrainSplit\"]\n",
    "val_split = specs[\"ValSplit\"]\n",
    "# dataset = zip(one_hot_sentences, strokes)\n",
    "train_set, val_set = split_dataset(dataset, train_split, val_split)\n",
    "\n",
    "# sentences_train = [x[0] for x in train_set]\n",
    "# strokes_train = [x[1] for x in train_set]\n",
    "\n",
    "# sentences_val = [x[0] for x in val_set]\n",
    "# strokes_val = [x[1] for x in val_set]\n",
    "\n",
    "# strokes_train = torch.Tensor(x[:n_timestep] for x in strokes_train)\n",
    "# strokes_val = torch.Tensor(x[:n_timestep] for x in strokes_val)\n",
    "\n",
    "\n",
    "# train_set = np.array(sorted(zip(strokes[:int(train_split*len(strokes))],\n",
    "#                                      one_hot_sentences[:int(train_split*len(strokes))]),\n",
    "#                                  key=lambda x: len(x[0]), reverse=True))\n",
    "# val_set = np.array(sorted(\n",
    "#     zip(strokes[int(train_split*len(strokes)):int((train_split+val_split)*len(strokes))],\n",
    "#         one_hot_sentences[int(train_split*len(strokes)):int((train_split+val_split)*len(strokes))]),\n",
    "#     key=lambda x: len(x[0]), reverse=True))\n",
    "# test_set = np.array(sorted(zip(strokes[int((train_split+val_split)*len(strokes)):],\n",
    "#                                one_hot_sentences[int((train_split+val_split)*len(strokes)):]),\n",
    "#                            key=lambda x: len(x[0]), reverse=True))\n",
    "\n",
    "print(\"Training set: {}\\nValidation set: {}\\nTesting set: {}\".format(len(train_set), len(val_set), len(test_set)))\n",
    "\n",
    "#normalize x and y coordinates to 0 mean and 1 std\n",
    "# normalize(train_set)\n",
    "# normalize(val_set)\n",
    "# normalize(test_set)\n",
    "\n",
    "# From numpy arrays to pytorch tensors\n",
    "# dataset = [train_set, val_set, test_set]\n",
    "# for k in range(len(dataset)):\n",
    "#     dataset[k] = [torch.from_numpy(x) for x in dataset[k]]\n",
    "#     train_set, val_set, test_set = tuple(dataset)"
   ]
  },
  {
   "cell_type": "code",
   "execution_count": null,
   "metadata": {},
   "outputs": [],
   "source": []
  },
  {
   "cell_type": "code",
   "execution_count": null,
   "metadata": {},
   "outputs": [],
   "source": []
  },
  {
   "cell_type": "code",
   "execution_count": null,
   "metadata": {},
   "outputs": [],
   "source": []
  },
  {
   "cell_type": "code",
   "execution_count": null,
   "metadata": {},
   "outputs": [],
   "source": []
  },
  {
   "cell_type": "code",
   "execution_count": null,
   "metadata": {},
   "outputs": [],
   "source": []
  },
  {
   "cell_type": "code",
   "execution_count": null,
   "metadata": {},
   "outputs": [],
   "source": []
  },
  {
   "cell_type": "code",
   "execution_count": null,
   "metadata": {},
   "outputs": [],
   "source": []
  },
  {
   "cell_type": "code",
   "execution_count": null,
   "metadata": {},
   "outputs": [],
   "source": []
  },
  {
   "cell_type": "code",
   "execution_count": 477,
   "metadata": {},
   "outputs": [],
   "source": [
    "with open('../data/sentences.txt', 'r') as f:\n",
    "    sentences = f.read()"
   ]
  },
  {
   "cell_type": "code",
   "execution_count": 478,
   "metadata": {},
   "outputs": [
    {
     "data": {
      "text/plain": [
       "77"
      ]
     },
     "execution_count": 478,
     "metadata": {},
     "output_type": "execute_result"
    }
   ],
   "source": [
    "char_set = set(sentences)\n",
    "char_set.remove('\\n')\n",
    "len(char_set)"
   ]
  },
  {
   "cell_type": "code",
   "execution_count": 479,
   "metadata": {},
   "outputs": [],
   "source": [
    "sentences = sentences.splitlines()"
   ]
  },
  {
   "cell_type": "code",
   "execution_count": 480,
   "metadata": {},
   "outputs": [],
   "source": [
    "# feel free to use this import \n",
    "from collections import Counter\n",
    "\n",
    "## Build a dictionary that maps chars to integers\n",
    "counts = Counter(list(''.join(sentences)))\n",
    "char_to_int = {char: i for i, char in enumerate(char_set, 1)}\n",
    "\n",
    "## store the tokenized sentences in sentences_ints\n",
    "sentences_ints = []\n",
    "for sentence in sentences:\n",
    "    sentences_ints.append([char_to_int[char] for char in sentence])"
   ]
  },
  {
   "cell_type": "code",
   "execution_count": 496,
   "metadata": {},
   "outputs": [],
   "source": [
    "def one_hot_encode(sentence):\n",
    "    one_hot_sentence = []\n",
    "    for value in sentence:\n",
    "        one_hot = [0 for _ in range(len(char_set))]\n",
    "        one_hot[value-1] = 1\n",
    "        one_hot_sentence.append(one_hot)\n",
    "    return one_hot_sentence\n",
    "\n",
    "one_hot_sentences = [one_hot_encode(sentence) for sentence in sentences_ints]"
   ]
  },
  {
   "cell_type": "code",
   "execution_count": 498,
   "metadata": {},
   "outputs": [],
   "source": [
    "one_hot_sentences = [torch.Tensor(x) for x in one_hot_sentences]"
   ]
  },
  {
   "cell_type": "code",
   "execution_count": 504,
   "metadata": {},
   "outputs": [
    {
     "data": {
      "text/plain": [
       "(6000,)"
      ]
     },
     "execution_count": 504,
     "metadata": {},
     "output_type": "execute_result"
    }
   ],
   "source": []
  },
  {
   "cell_type": "code",
   "execution_count": 517,
   "metadata": {},
   "outputs": [],
   "source": [
    "n_timestep = 400"
   ]
  },
  {
   "cell_type": "code",
   "execution_count": 508,
   "metadata": {},
   "outputs": [],
   "source": [
    "# 400 specs[\"NumTimestep\"]\n",
    "n_timestep = 400\n",
    "dataset = list(filter(lambda x: len(x[1]) >= n_timestep, zip(one_hot_sentences, strokes)))\n",
    "\n",
    "one_hot_sentences = [x[0] for x in dataset]\n",
    "strokes = [x[1] for x in dataset]\n",
    "\n",
    "strokes = [x[:n_timestep] for x in strokes]\n",
    "\n",
    "strokes = torch.Tensor(strokes)"
   ]
  },
  {
   "cell_type": "code",
   "execution_count": 523,
   "metadata": {},
   "outputs": [
    {
     "data": {
      "text/plain": [
       "tensor([21, 21, 21, 21, 21])"
      ]
     },
     "execution_count": 523,
     "metadata": {},
     "output_type": "execute_result"
    }
   ],
   "source": [
    "a = torch.arange(1,7).long()\n",
    "b = torch.ones(6,5).long()\n",
    "a.matmul(b)"
   ]
  },
  {
   "cell_type": "code",
   "execution_count": null,
   "metadata": {},
   "outputs": [],
   "source": []
  },
  {
   "cell_type": "code",
   "execution_count": null,
   "metadata": {},
   "outputs": [],
   "source": []
  },
  {
   "cell_type": "code",
   "execution_count": null,
   "metadata": {},
   "outputs": [],
   "source": [
    "class LSTM(nn.Module):\n",
    "    #corriger input dim etc..\n",
    "    def __init__(self, input_dim, hidden_dim, n_layers, output_dim, window_parameter_dim, char_set):\n",
    "        super().__init__()\n",
    "        self.batch_first = True\n",
    "        self.input_dim = input_dim\n",
    "        self.output_dim = output_dim\n",
    "        self.hidden_dim = hidden_dim\n",
    "        self.window_parameter_dim = window_parameter_dim\n",
    "        self.n_layers = n_layers\n",
    "        self.char_set = char_set\n",
    "        self.csl = len(self.char_set)\n",
    "        self.lstm_cell = nn.LSTMCell(2*input_dim, hidden_dim) #inputdim is onehotencode size for x and softwindow\n",
    "        self.lstm = nn.LSTM(2*input_dim + hidden_dim, hidden_dim, batch_first=True)\n",
    "        self.fc1 = nn.Linear(hidden_dim, 3*window_parameter_dim)\n",
    "        self.fc2 = nn.Linear(hidden_dim, output_dim)\n",
    "    \n",
    "    #use broadcasting for cleaner code\n",
    "    def compute_soft_window(self, h, sentences, prev_p=None):\n",
    "        K = self.window_parameter_dim\n",
    "        if prev_p == None:\n",
    "            prev_p = torch.zeros(h.size(0), 3*K)\n",
    "        p = torch.exp(self.fc1(h.float()))\n",
    "        p[:,2*K:] = p[:, 2*K:] - prev_p[:, 2*K:]\n",
    "        alpha, beta, kappa = torch.split(p, K, -1)\n",
    "        all_phi = []\n",
    "        all_wt = []\n",
    "        for i in range(len(sentences)):\n",
    "            c = sentences[i]\n",
    "            u = torch.ones(c.size(0), alpha.size(-1))\n",
    "            for k in range(c.size(0)):\n",
    "                u[k] *= k+1\n",
    "            phi = torch.zeros(c.size(0), alpha.size(-1))\n",
    "            for k in range(phi.size(0)):\n",
    "                phi[k] = alpha[i]*torch.exp(-beta[i]*(kappa[i]-u[k])**2)\n",
    "            phi = torch.sum(phi, dim=-1)\n",
    "            wt = phi.matmul(c)\n",
    "            all_wt.append(wt) \n",
    "            \n",
    "        soft_window = torch.Tensor(all_wt)\n",
    "#         u = torch.ones(c.size(0), alpha.size(-1))\n",
    "#         for k in range(c.size(0)):\n",
    "#             u[k] *= k+1\n",
    "#         phi = torch.zeros(h.size(0), c.size(1))\n",
    "#         for k in range(phi.size(-1)):\n",
    "#             phi[:,k] = torch.sum(alpha*torch.exp(-beta*(kappa-u[k])**2), dim=-1)\n",
    "#         soft_window = phi.mm(c.float())\n",
    "        return  soft_window, p\n",
    "\n",
    "    def forward(self, x, c, h1, h2):\n",
    "        p = None\n",
    "        hx = torch.zeros(h1[0].size(0), x.size(1), h1[0].size(-1))\n",
    "        all_windows = torch.zeros(h1[0].size(0), x.size(1), self.csl)\n",
    "        \n",
    "        for k in range(len(x.size(1))):\n",
    "            x_t = x[:, k, :]\n",
    "            soft_window, p = compute_soft_window(h1[0], p)\n",
    "            x_t = torch.cat([x_t, soft_window], dim=-1)\n",
    "            h1 = self.lstm_cell(x_t, h1)\n",
    "            hx[:, k, :] = h1[0]\n",
    "            all_windows[:, k, :] = soft_window\n",
    "        \n",
    "        x = torch.cat([x, all_windows, hx], dim=-1)\n",
    "        x, h2 = self.lstm(x, h2)\n",
    "        x = x.contiguous().view(-1, self.hidden_dim)\n",
    "        out = self.fc2(x)\n",
    "        return out, h1, h2"
   ]
  },
  {
   "cell_type": "code",
   "execution_count": null,
   "metadata": {},
   "outputs": [],
   "source": [
    "def train(model, train_set, val_set, start_epoch, epochs, batch_size, optimizer, clip, log_frequency, \n",
    "    logs_dir, model_params_dir, checkpoints, loss_log, val_loss_log):\n",
    "    for epoch in range(start_epoch, epochs+1):\n",
    "        epoch_loss = 0\n",
    "        epoch_val_loss = 0\n",
    "        print(\"epoch: \", epoch)\n",
    "        # initialize hidden state\n",
    "        model.train()\n",
    "        h1 = model.init_hidden(batch_size).squeeze(0)\n",
    "        h2 = model.init_hidden(batch_size)\n",
    "\n",
    "        # Looping the whole dataset\n",
    "        for inputs in model.dataloader(train_set, batch_size):\n",
    "            sentences = torch.Tensor([x[0] for x in inputs])\n",
    "            inputs = torch.Tensor([x[1] for x in inputs])\n",
    "\n",
    "            labels = [torch.zeros_like(k) for k in inputs]\n",
    "            for i in range(len(labels)):\n",
    "                labels[i][:-1, :] = inputs[i][1:, :]\n",
    "                labels[i][-1, :] = inputs[i][0, :]\n",
    "            inputs = torch.Tensor(inputs)\n",
    "            labels = torch.Tensor(labels)\n",
    "            sentences = torch.Tensor(sentences)\n",
    "\n",
    "            # Creating new variables for the hidden state, otherwise\n",
    "            # we'd backprop through the entire training history\n",
    "            h1 = tuple([each.data for each in h1])\n",
    "            h2 = tuple([each.data for each in h2])\n",
    "\n",
    "            # zero accumulated gradients\n",
    "            model.zero_grad()\n",
    "            output, h1, h2 = model(inputs,sentences, h1, h2)\n",
    "\n",
    "            # calculate the loss and perform backprop\n",
    "            loss = loss_function(output.squeeze(), labels)\n",
    "            epoch_loss += loss.item()\n",
    "            loss.backward()\n",
    "            # `clip_grad_norm` helps prevent the exploding gradient problem.\n",
    "            nn.utils.clip_grad_norm_(model.parameters(), clip)\n",
    "            optimizer.step()\n",
    "        loss_log.append(epoch_loss/len(strokes_train))\n",
    "\n",
    "        # Get validation loss\n",
    "        val_h1 = model.init_hidden(batch_size).squeeze(0)\n",
    "        val_h2 = model.init_hidden(batch_size)\n",
    "        model.eval()\n",
    "        for val_inputs in model.dataloader(val_set, batch_size):\n",
    "            val_sentences = [x[0] for x in val_inputs]\n",
    "            val_inputs = [x[1] for x in val_inputs]\n",
    "            val_labels = [torch.zeros_like(k) for k in val_inputs]\n",
    "            for i in range(len(val_labels)):\n",
    "                val_labels[i][:-1, :] = val_inputs[i][1:, :]\n",
    "                val_labels[i][-1, :] = val_inputs[i][0, :]\n",
    "            val_inputs = torch.Tensor(val_inputs)\n",
    "            val_labels = torch.Tensor(val_labels)\n",
    "            val_sentences = torch.Tensor(val_sentences)\n",
    "\n",
    "            # Creating new variables for the hidden state, otherwise\n",
    "            # we'd backprop through the entire training history\n",
    "            val_h1 = tuple([each.data for each in val_h1])\n",
    "            val_h2 = tuple([each.data for each in val_h2])\n",
    "            val_output, val_h1, val_h2 = model(val_inputs, val_sentences, val_h1, val_h2)\n",
    "            val_loss = loss_function(val_output.squeeze(), val_labels)\n",
    "            epoch_val_loss += val_loss.item()\n",
    "\n",
    "        val_loss_log.append(epoch_val_loss/len(strokes_val))\n",
    "\n",
    "        model.train()\n",
    "\n",
    "\n",
    "        if epoch in checkpoints:\n",
    "            model.save_model(model_params_dir, str(epoch)+\".pth\", epoch)\n",
    "\n",
    "        if epoch % log_frequency == 0:\n",
    "            model.save_model(model_params_dir, \"latest.pth\", epoch)\n",
    "            model.save_logs(\n",
    "                logs_dir,\n",
    "                loss_log,\n",
    "                val_loss_log,\n",
    "                epoch,\n",
    "            )"
   ]
  },
  {
   "cell_type": "code",
   "execution_count": null,
   "metadata": {},
   "outputs": [],
   "source": []
  },
  {
   "cell_type": "code",
   "execution_count": null,
   "metadata": {},
   "outputs": [],
   "source": []
  },
  {
   "cell_type": "code",
   "execution_count": null,
   "metadata": {},
   "outputs": [],
   "source": []
  },
  {
   "cell_type": "code",
   "execution_count": null,
   "metadata": {},
   "outputs": [],
   "source": []
  },
  {
   "cell_type": "code",
   "execution_count": null,
   "metadata": {},
   "outputs": [],
   "source": []
  },
  {
   "cell_type": "code",
   "execution_count": null,
   "metadata": {},
   "outputs": [],
   "source": []
  },
  {
   "cell_type": "code",
   "execution_count": null,
   "metadata": {},
   "outputs": [],
   "source": []
  },
  {
   "cell_type": "code",
   "execution_count": null,
   "metadata": {},
   "outputs": [],
   "source": []
  },
  {
   "cell_type": "code",
   "execution_count": null,
   "metadata": {},
   "outputs": [],
   "source": []
  },
  {
   "cell_type": "code",
   "execution_count": null,
   "metadata": {},
   "outputs": [],
   "source": []
  },
  {
   "cell_type": "code",
   "execution_count": null,
   "metadata": {},
   "outputs": [],
   "source": []
  },
  {
   "cell_type": "code",
   "execution_count": null,
   "metadata": {},
   "outputs": [],
   "source": []
  },
  {
   "cell_type": "code",
   "execution_count": null,
   "metadata": {},
   "outputs": [],
   "source": []
  },
  {
   "cell_type": "code",
   "execution_count": 16,
   "metadata": {},
   "outputs": [
    {
     "data": {
      "text/plain": [
       "PackedSequence(data=tensor([[1.],\n",
       "        [4.],\n",
       "        [6.],\n",
       "        [2.],\n",
       "        [5.],\n",
       "        [3.]]), batch_sizes=tensor([3, 2, 1]), sorted_indices=None, unsorted_indices=None)"
      ]
     },
     "execution_count": 16,
     "metadata": {},
     "output_type": "execute_result"
    }
   ],
   "source": [
    "packed = rnn_utils.pack_sequence([a, b, c])\n",
    "packed"
   ]
  },
  {
   "cell_type": "code",
   "execution_count": 25,
   "metadata": {},
   "outputs": [],
   "source": [
    "A = torch.ones( 3 ,  5 )\n",
    "B = torch.ones( 2 ,  5 ) * 2\n",
    "C = torch.ones( 1 ,  5 ) * 3"
   ]
  },
  {
   "cell_type": "code",
   "execution_count": 27,
   "metadata": {},
   "outputs": [
    {
     "data": {
      "text/plain": [
       "PackedSequence(data=tensor([[1., 1., 1., 1., 1.],\n",
       "        [2., 2., 2., 2., 2.],\n",
       "        [3., 3., 3., 3., 3.],\n",
       "        [1., 1., 1., 1., 1.],\n",
       "        [2., 2., 2., 2., 2.],\n",
       "        [1., 1., 1., 1., 1.]]), batch_sizes=tensor([3, 2, 1]), sorted_indices=None, unsorted_indices=None)"
      ]
     },
     "execution_count": 27,
     "metadata": {},
     "output_type": "execute_result"
    }
   ],
   "source": [
    "packed = rnn_utils.pack_sequence([A, B, C])\n",
    "packed"
   ]
  },
  {
   "cell_type": "code",
   "execution_count": 31,
   "metadata": {},
   "outputs": [],
   "source": [
    "batch, batch_len = rnn_utils.pad_packed_sequence(packed, batch_first=True, padding_value=-1)"
   ]
  },
  {
   "cell_type": "code",
   "execution_count": null,
   "metadata": {},
   "outputs": [],
   "source": []
  },
  {
   "cell_type": "code",
   "execution_count": null,
   "metadata": {},
   "outputs": [],
   "source": []
  },
  {
   "cell_type": "code",
   "execution_count": null,
   "metadata": {},
   "outputs": [],
   "source": [
    "packed = rnn_utils.pack_sequence([a, c, b], enforce_sorted=False)\n",
    "packed\n",
    "\n",
    "packed_padded = torch.nn.utils.rnn.pack_padded_sequence([a, b, c], [3, 2, 1], batch_first=True)\n",
    "packed_padded\n",
    "\n",
    "pad_pack = torch.nn.utils.rnn.pad_packed_sequence(packed, batch_first=True)\n",
    "pad_pack\n",
    "\n",
    "lstm = nn.LSTM(1,3)\n",
    "packed_output, (h,c) = lstm(packed)"
   ]
  },
  {
   "cell_type": "code",
   "execution_count": null,
   "metadata": {},
   "outputs": [],
   "source": []
  },
  {
   "cell_type": "code",
   "execution_count": 5,
   "metadata": {},
   "outputs": [
    {
     "name": "stdout",
     "output_type": "stream",
     "text": [
      "1.8 µs ± 5.83 ns per loop (mean ± std. dev. of 7 runs, 1000000 loops each)\n"
     ]
    }
   ],
   "source": [
    "temp = np.random.randint(1,10, 10)\n",
    "%timeit np.sort(temp)[::-1]"
   ]
  },
  {
   "cell_type": "code",
   "execution_count": null,
   "metadata": {},
   "outputs": [],
   "source": []
  },
  {
   "cell_type": "code",
   "execution_count": null,
   "metadata": {},
   "outputs": [],
   "source": []
  },
  {
   "cell_type": "code",
   "execution_count": null,
   "metadata": {},
   "outputs": [],
   "source": [
    "lstm = nn.LSTM(1,3)\n",
    "\n",
    "packed_output, (h,c) = lstm(packed)\n",
    "\n",
    "y = rnn_utils.pad_packed_sequence(packed_output)"
   ]
  },
  {
   "cell_type": "code",
   "execution_count": null,
   "metadata": {},
   "outputs": [],
   "source": []
  },
  {
   "cell_type": "code",
   "execution_count": 192,
   "metadata": {},
   "outputs": [],
   "source": [
    "# Importing Dataset\n",
    "strokes = np.load('../data/strokes-py3.npy', allow_pickle=True)"
   ]
  },
  {
   "cell_type": "code",
   "execution_count": null,
   "metadata": {},
   "outputs": [],
   "source": [
    "strokes = np.random.shuffle()"
   ]
  },
  {
   "cell_type": "code",
   "execution_count": 193,
   "metadata": {},
   "outputs": [],
   "source": [
    "train_split = 0.8\n",
    "val_split = 0.1\n",
    "# Maybe shuffle the dataset with a fixed random seed\n",
    "train_set = np.array(sorted(strokes[:int(train_split*len(strokes))], key=len, reverse=True))\n",
    "val_set = np.array(sorted(strokes[int(train_split*len(strokes)):int((train_split+val_split)*len(strokes))], key=len, reverse=True))\n",
    "test_set = np.array(sorted(strokes[int((train_split+val_split)*len(strokes)):], key=len, reverse=True))"
   ]
  },
  {
   "cell_type": "code",
   "execution_count": 198,
   "metadata": {},
   "outputs": [
    {
     "data": {
      "text/plain": [
       "1119"
      ]
     },
     "execution_count": 198,
     "metadata": {},
     "output_type": "execute_result"
    }
   ],
   "source": [
    "len(val_set[3])"
   ]
  },
  {
   "cell_type": "code",
   "execution_count": null,
   "metadata": {},
   "outputs": [],
   "source": []
  },
  {
   "cell_type": "code",
   "execution_count": null,
   "metadata": {},
   "outputs": [],
   "source": []
  },
  {
   "cell_type": "code",
   "execution_count": null,
   "metadata": {},
   "outputs": [],
   "source": []
  },
  {
   "cell_type": "code",
   "execution_count": null,
   "metadata": {},
   "outputs": [],
   "source": []
  },
  {
   "cell_type": "code",
   "execution_count": null,
   "metadata": {},
   "outputs": [],
   "source": []
  },
  {
   "cell_type": "code",
   "execution_count": 116,
   "metadata": {},
   "outputs": [
    {
     "data": {
      "text/plain": [
       "array([ 3.9709475e-02, -8.6119457e-05,  3.0898843e+02], dtype=float32)"
      ]
     },
     "execution_count": 116,
     "metadata": {},
     "output_type": "execute_result"
    }
   ],
   "source": [
    "np.mean(np.concatenate(train_set, axis=0), axis=0)"
   ]
  },
  {
   "cell_type": "code",
   "execution_count": 49,
   "metadata": {},
   "outputs": [
    {
     "data": {
      "text/plain": [
       "array([ 0.  , -0.15,  0.  , ...,  0.25,  0.  ,  0.2 ], dtype=float32)"
      ]
     },
     "execution_count": 49,
     "metadata": {},
     "output_type": "execute_result"
    }
   ],
   "source": [
    "train_set[0][:,1]"
   ]
  },
  {
   "cell_type": "code",
   "execution_count": 132,
   "metadata": {},
   "outputs": [],
   "source": [
    "#normalize x and y coordinates to 0 mean 1 std\n",
    "def normalize(data):\n",
    "    data_concat = np.concatenate(data, axis=0)\n",
    "    means = np.mean(data_concat, axis=0)\n",
    "    stds = np.std(data_concat, axis=0)\n",
    "    x_mean = means[1]\n",
    "    y_mean = means[2]\n",
    "    x_std = stds[1]\n",
    "    y_std = stds[2]\n",
    "    for element in data:\n",
    "        element[:,1] = (element[:,1] - x_mean) / x_std\n",
    "        element[:,2] = (element[:,2] - y_mean) / y_std"
   ]
  },
  {
   "cell_type": "code",
   "execution_count": 133,
   "metadata": {},
   "outputs": [],
   "source": [
    "normalize(train_set)\n",
    "normalize(val_set)\n",
    "normalize(test_set)"
   ]
  },
  {
   "cell_type": "code",
   "execution_count": 134,
   "metadata": {},
   "outputs": [],
   "source": [
    "#Pack sequences\n",
    "dataset = [train_set, val_set, test_set]\n",
    "\n",
    "for k in range(len(dataset)):\n",
    "    dataset[k] = [torch.from_numpy(x) for x in dataset[k]]\n",
    "#     dataset[k] = rnn_utils.pack_sequence(dataset[k])\n",
    "train_set, val_set, test_set = tuple(dataset)"
   ]
  },
  {
   "cell_type": "code",
   "execution_count": 135,
   "metadata": {},
   "outputs": [],
   "source": [
    "a = next(iter(dataloader(train_set, 10)))"
   ]
  },
  {
   "cell_type": "code",
   "execution_count": 136,
   "metadata": {},
   "outputs": [],
   "source": [
    "b = [torch.zeros_like(k) for k in a]\n",
    "\n",
    "for i in range(len(b)):\n",
    "    b[i][:-1, :] = a[i][1:, :]\n",
    "    b[i][-1, :] = a[i][0, :]\n",
    "\n",
    "b"
   ]
  },
  {
   "cell_type": "code",
   "execution_count": 140,
   "metadata": {},
   "outputs": [],
   "source": [
    "b = torch.cat(b)"
   ]
  },
  {
   "cell_type": "code",
   "execution_count": 169,
   "metadata": {},
   "outputs": [],
   "source": [
    "c = torch.zeros_like(b[:, 0])\n",
    "c[:] = b[:, 0]"
   ]
  },
  {
   "cell_type": "code",
   "execution_count": 176,
   "metadata": {},
   "outputs": [
    {
     "data": {
      "text/plain": [
       "tensor([12.,  0.,  0.,  ...,  0.,  1.,  0.])"
      ]
     },
     "execution_count": 176,
     "metadata": {},
     "output_type": "execute_result"
    }
   ],
   "source": [
    "b[:, 0]"
   ]
  },
  {
   "cell_type": "code",
   "execution_count": 174,
   "metadata": {},
   "outputs": [],
   "source": [
    "c[0] = 3"
   ]
  },
  {
   "cell_type": "code",
   "execution_count": 175,
   "metadata": {},
   "outputs": [
    {
     "data": {
      "text/plain": [
       "tensor([3., 0., 0.,  ..., 0., 1., 0.])"
      ]
     },
     "execution_count": 175,
     "metadata": {},
     "output_type": "execute_result"
    }
   ],
   "source": [
    "c"
   ]
  },
  {
   "cell_type": "code",
   "execution_count": 155,
   "metadata": {},
   "outputs": [
    {
     "data": {
      "text/plain": [
       "tensor([])"
      ]
     },
     "execution_count": 155,
     "metadata": {},
     "output_type": "execute_result"
    }
   ],
   "source": [
    "b[:,0].new()"
   ]
  },
  {
   "cell_type": "code",
   "execution_count": 149,
   "metadata": {},
   "outputs": [
    {
     "data": {
      "text/plain": [
       "tensor([12.,  0.,  0.,  ...,  0.,  1.,  0.])"
      ]
     },
     "execution_count": 149,
     "metadata": {},
     "output_type": "execute_result"
    }
   ],
   "source": [
    "b.split()"
   ]
  },
  {
   "cell_type": "code",
   "execution_count": 150,
   "metadata": {},
   "outputs": [
    {
     "data": {
      "text/plain": [
       "tensor([12.,  0.,  0.,  ...,  0.,  1.,  0.])"
      ]
     },
     "execution_count": 150,
     "metadata": {},
     "output_type": "execute_result"
    }
   ],
   "source": [
    "b[:,0]"
   ]
  },
  {
   "cell_type": "code",
   "execution_count": null,
   "metadata": {},
   "outputs": [],
   "source": []
  },
  {
   "cell_type": "code",
   "execution_count": null,
   "metadata": {},
   "outputs": [],
   "source": []
  },
  {
   "cell_type": "code",
   "execution_count": 122,
   "metadata": {},
   "outputs": [],
   "source": [
    "a = torch.cat(a)"
   ]
  },
  {
   "cell_type": "code",
   "execution_count": 123,
   "metadata": {},
   "outputs": [
    {
     "data": {
      "text/plain": [
       "torch.Size([11782, 3])"
      ]
     },
     "execution_count": 123,
     "metadata": {},
     "output_type": "execute_result"
    }
   ],
   "source": [
    "a.shape"
   ]
  },
  {
   "cell_type": "code",
   "execution_count": null,
   "metadata": {},
   "outputs": [],
   "source": []
  },
  {
   "cell_type": "code",
   "execution_count": null,
   "metadata": {},
   "outputs": [],
   "source": []
  },
  {
   "cell_type": "code",
   "execution_count": null,
   "metadata": {},
   "outputs": [],
   "source": []
  },
  {
   "cell_type": "code",
   "execution_count": null,
   "metadata": {},
   "outputs": [],
   "source": []
  },
  {
   "cell_type": "code",
   "execution_count": null,
   "metadata": {},
   "outputs": [],
   "source": []
  },
  {
   "cell_type": "code",
   "execution_count": null,
   "metadata": {},
   "outputs": [],
   "source": []
  },
  {
   "cell_type": "code",
   "execution_count": null,
   "metadata": {},
   "outputs": [],
   "source": []
  },
  {
   "cell_type": "code",
   "execution_count": null,
   "metadata": {},
   "outputs": [],
   "source": []
  },
  {
   "cell_type": "code",
   "execution_count": null,
   "metadata": {},
   "outputs": [],
   "source": []
  },
  {
   "cell_type": "code",
   "execution_count": null,
   "metadata": {},
   "outputs": [],
   "source": []
  },
  {
   "cell_type": "code",
   "execution_count": null,
   "metadata": {},
   "outputs": [],
   "source": []
  },
  {
   "cell_type": "code",
   "execution_count": 52,
   "metadata": {},
   "outputs": [],
   "source": [
    "# def normalize(data):\n",
    "train_concat = np.concatenate(train_set, axis=0)\n",
    "means = np.mean(train_concat, axis=0)\n",
    "stds = np.std(train_concat, axis=0)\n",
    "x_mean_train = means[1]\n",
    "y_mean_train = means[2]\n",
    "x_std_train = stds[1]\n",
    "y_std_train = stds[2]\n",
    "for element in train_set:\n",
    "    element[:,1] = (element[:,1] - x_mean_train) / x_std_train\n",
    "    element[:,2] = (element[:,2] - y_mean_train) / y_std_train\n"
   ]
  },
  {
   "cell_type": "code",
   "execution_count": 53,
   "metadata": {},
   "outputs": [
    {
     "data": {
      "text/plain": [
       "array([ 3.9709475e-02,  3.5643530e-05, -1.9592159e-04], dtype=float32)"
      ]
     },
     "execution_count": 53,
     "metadata": {},
     "output_type": "execute_result"
    }
   ],
   "source": [
    "np.mean(np.concatenate(train_set, axis=0), axis=0)"
   ]
  },
  {
   "cell_type": "code",
   "execution_count": 54,
   "metadata": {},
   "outputs": [
    {
     "data": {
      "text/plain": [
       "array([-0.19877665, -0.27125478, -0.19877665, ..., -0.07797971,\n",
       "       -0.19877665, -0.10213909], dtype=float32)"
      ]
     },
     "execution_count": 54,
     "metadata": {},
     "output_type": "execute_result"
    }
   ],
   "source": [
    "train_set[0][:,1]"
   ]
  },
  {
   "cell_type": "code",
   "execution_count": 72,
   "metadata": {},
   "outputs": [],
   "source": [
    "def dataloader(dataset, batch_size):\n",
    "    n = len(dataset)\n",
    "#     assert batch_size <= n\n",
    "#         raise AssertionError('batch_size must be less than dataset size')\n",
    "    i = 0\n",
    "    while i < n:\n",
    "        if i + batch_size <= n:\n",
    "            yield dataset[i:i+batch_size]\n",
    "            i += batch_size\n",
    "        else:\n",
    "            yield dataset[i:]\n",
    "            i = n"
   ]
  },
  {
   "cell_type": "code",
   "execution_count": 58,
   "metadata": {},
   "outputs": [],
   "source": [
    "strk = np.load('/Users/lastaw/Documents/AI/HWG/Handwriting-Generation-Pytorch-master/src/data/strokes.npy',\n",
    "               allow_pickle=True,\n",
    "              encoding='latin1')"
   ]
  },
  {
   "cell_type": "code",
   "execution_count": 63,
   "metadata": {},
   "outputs": [
    {
     "data": {
      "text/plain": [
       "(713, 3)"
      ]
     },
     "execution_count": 63,
     "metadata": {},
     "output_type": "execute_result"
    }
   ],
   "source": [
    "strk[2].shape"
   ]
  },
  {
   "cell_type": "code",
   "execution_count": 67,
   "metadata": {},
   "outputs": [
    {
     "data": {
      "text/plain": [
       "2"
      ]
     },
     "execution_count": 67,
     "metadata": {},
     "output_type": "execute_result"
    }
   ],
   "source": [
    "np.random.randint(0,6)"
   ]
  },
  {
   "cell_type": "code",
   "execution_count": 68,
   "metadata": {},
   "outputs": [],
   "source": [
    "def generator():\n",
    "    l = np.arange(5)\n",
    "    for k in l:\n",
    "        yield k\n"
   ]
  },
  {
   "cell_type": "code",
   "execution_count": 69,
   "metadata": {
    "collapsed": true
   },
   "outputs": [
    {
     "name": "stdout",
     "output_type": "stream",
     "text": [
      "0\n",
      "1\n",
      "2\n",
      "3\n",
      "4\n"
     ]
    }
   ],
   "source": [
    "for i in generator():\n",
    "    print(i)"
   ]
  },
  {
   "cell_type": "code",
   "execution_count": null,
   "metadata": {},
   "outputs": [],
   "source": [
    "train_set = data_utils.Dataset(train_set)\n",
    "data_loader = data_utils.DataLoader(\n",
    "        train_set,\n",
    "        batch_size=100,\n",
    "        shuffle=False,\n",
    "        drop_last=False,\n",
    "    )"
   ]
  },
  {
   "cell_type": "code",
   "execution_count": null,
   "metadata": {},
   "outputs": [],
   "source": [
    "a = data_utils.TensorDataset(torch.from_numpy(train_set))"
   ]
  },
  {
   "cell_type": "code",
   "execution_count": 73,
   "metadata": {},
   "outputs": [
    {
     "ename": "TypeError",
     "evalue": "can't convert np.ndarray of type numpy.object_. The only supported types are: float64, float32, float16, int64, int32, int16, int8, uint8, and bool.",
     "output_type": "error",
     "traceback": [
      "\u001b[0;31m---------------------------------------------------------------------------\u001b[0m",
      "\u001b[0;31mTypeError\u001b[0m                                 Traceback (most recent call last)",
      "\u001b[0;32m<ipython-input-73-33cb6e1a7ef4>\u001b[0m in \u001b[0;36m<module>\u001b[0;34m\u001b[0m\n\u001b[0;32m----> 1\u001b[0;31m \u001b[0mdataloader\u001b[0m\u001b[0;34m(\u001b[0m\u001b[0mtorch\u001b[0m\u001b[0;34m.\u001b[0m\u001b[0mfrom_numpy\u001b[0m\u001b[0;34m(\u001b[0m\u001b[0mtrain_set\u001b[0m\u001b[0;34m)\u001b[0m\u001b[0;34m)\u001b[0m\u001b[0;34m\u001b[0m\u001b[0;34m\u001b[0m\u001b[0m\n\u001b[0m",
      "\u001b[0;31mTypeError\u001b[0m: can't convert np.ndarray of type numpy.object_. The only supported types are: float64, float32, float16, int64, int32, int16, int8, uint8, and bool."
     ]
    }
   ],
   "source": []
  },
  {
   "cell_type": "code",
   "execution_count": 85,
   "metadata": {},
   "outputs": [
    {
     "data": {
      "text/plain": [
       "tensor([[1., 1., 1., 1., 1.],\n",
       "        [1., 1., 1., 1., 1.]])"
      ]
     },
     "execution_count": 85,
     "metadata": {},
     "output_type": "execute_result"
    }
   ],
   "source": [
    "a = torch.ones((2,5))\n",
    "a"
   ]
  },
  {
   "cell_type": "code",
   "execution_count": 100,
   "metadata": {},
   "outputs": [
    {
     "data": {
      "text/plain": [
       "(tensor([[1., 1., 1., 1., 1.]]), tensor([[1., 1., 1., 1., 1.]]))"
      ]
     },
     "execution_count": 100,
     "metadata": {},
     "output_type": "execute_result"
    }
   ],
   "source": [
    "a.split(1, dim=0)"
   ]
  },
  {
   "cell_type": "code",
   "execution_count": 98,
   "metadata": {},
   "outputs": [
    {
     "data": {
      "text/plain": [
       "2"
      ]
     },
     "execution_count": 98,
     "metadata": {},
     "output_type": "execute_result"
    }
   ],
   "source": [
    "len(a.split(1, dim=0))"
   ]
  },
  {
   "cell_type": "code",
   "execution_count": 177,
   "metadata": {},
   "outputs": [],
   "source": [
    "import matplotlib.pyplot as plt"
   ]
  },
  {
   "cell_type": "code",
   "execution_count": 178,
   "metadata": {},
   "outputs": [],
   "source": [
    "y = np.random.rand(10)"
   ]
  },
  {
   "cell_type": "code",
   "execution_count": 179,
   "metadata": {},
   "outputs": [],
   "source": [
    "x = np.arange(10)"
   ]
  },
  {
   "cell_type": "code",
   "execution_count": 180,
   "metadata": {},
   "outputs": [
    {
     "data": {
      "text/plain": [
       "[<matplotlib.lines.Line2D at 0x130a805f8>]"
      ]
     },
     "execution_count": 180,
     "metadata": {},
     "output_type": "execute_result"
    },
    {
     "data": {
      "image/png": "[encoded data removed]",
      "text/plain": [
       "<Figure size 432x288 with 1 Axes>"
      ]
     },
     "metadata": {
      "needs_background": "light"
     },
     "output_type": "display_data"
    }
   ],
   "source": [
    "plt.plot(x,y, \"b-\")"
   ]
  },
  {
   "cell_type": "code",
   "execution_count": 191,
   "metadata": {},
   "outputs": [
    {
     "data": {
      "image/png": "[encoded data removed]",
      "text/plain": [
       "<Figure size 432x288 with 1 Axes>"
      ]
     },
     "metadata": {
      "needs_background": "light"
     },
     "output_type": "display_data"
    }
   ],
   "source": [
    "fig, ax = plt.subplots()\n",
    "\n",
    "#     if type == \"loss\":\n",
    "\n",
    "loss_line = ax.plot(\n",
    "    x,\n",
    "    y,\n",
    "    \"#999999\",\n",
    "    label=\"Training Loss\"\n",
    ")\n",
    "\n",
    "val_loss_line = ax.plot(\n",
    "    x,\n",
    "    y+3,\n",
    "    \"#000000\",\n",
    "    label=\"Validation Loss\"\n",
    ")\n",
    "handles, labels = ax.get_legend_handles_labels()\n",
    "ax.legend(handles, labels)\n",
    "# plt.legend((loss_line, val_loss_line), (\"Training Loss\", \"Validation Loss\"))\n",
    "ax.set(xlabel=\"Epoch\", ylabel=\"Loss\", title=\"Training and Validation Losses\")\n",
    "\n",
    "ax.grid()\n",
    "plt.show()"
   ]
  },
  {
   "cell_type": "code",
   "execution_count": null,
   "metadata": {},
   "outputs": [],
   "source": [
    "fig, ax = plt.subplots()\n",
    "\n",
    "ax.plot(\n",
    "    np.arange(1, num_epoch+1),\n",
    "    logs[\"loss\"],\n",
    "    \"#000000\",\n",
    "    label=\"Training Loss\"\n",
    ")\n",
    "\n",
    "ax.plot(\n",
    "    np.arange(1, num_epoch+1),\n",
    "    logs[\"val_loss\"],\n",
    "    \"#999999\",\n",
    "    label=\"Validation Loss\"\n",
    ")\n",
    "\n",
    "ax.set(xlabel=\"Epoch\", ylabel=\"Loss\", title=\"Training Loss\")\n",
    "\n",
    "ax.grid()\n",
    "plt.show()"
   ]
  }
 ],
 "metadata": {
  "kernelspec": {
   "display_name": "Python 3",
   "language": "python",
   "name": "python3"
  },
  "language_info": {
   "codemirror_mode": {
    "name": "ipython",
    "version": 3
   },
   "file_extension": ".py",
   "mimetype": "text/x-python",
   "name": "python",
   "nbconvert_exporter": "python",
   "pygments_lexer": "ipython3",
   "version": "3.7.3"
  }
 },
 "nbformat": 4,
 "nbformat_minor": 2
}
